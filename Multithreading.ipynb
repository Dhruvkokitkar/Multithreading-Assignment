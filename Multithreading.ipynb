{
 "cells": [
  {
   "cell_type": "markdown",
   "id": "32d351a8-22ef-49a5-bcb0-1319cbfc6fdc",
   "metadata": {},
   "source": [
    "1 What is multithreading in python? hy is it used? Name the module used to handle threads in python?\n",
    "Multithreading is a threading technique in Python programming to run multiple threads concurrently by rapidly switching between threads \n",
    "with a CPU help (called context switching).\n",
    "Python multithreading enables efficient utilization of the resources as the threads share the data space and memory. Multithreading in Python allows the concurrent and parallel occurrence of various tasks. It causes a reduction in time consumption or response time, thereby increasing the performance.\n",
    "The threading module is a high-level implementation of multithreading used to deploy an application in Python. To use multithreading, we need to import the threading module in Python Program. A start() method is used to initiate the activity of a thread"
   ]
  },
  {
   "cell_type": "markdown",
   "id": "face5a0d-3c39-451d-a7b1-154e0031a6c8",
   "metadata": {},
   "source": [
    "2 Why threading module used? rite the use of the following functions?\n",
    "Threads allows a program to operate more efficiently by doing multiple things at the same time. Threads can be used to perform complicated tasks in the background without interrupting the main program.\n",
    "The threading module exposes all the methods of the thread module and provides some additional methods −\n",
    "threading.activeCount() − Returns the number of thread objects that are active.\n",
    "threading.currentThread() − Returns the number of thread objects in the caller's thread control.\n",
    "threading.enumerate() − Returns a list of all thread objects that are currently active."
   ]
  },
  {
   "cell_type": "markdown",
   "id": "c950c178-7389-4090-8d9c-3c11952a998e",
   "metadata": {},
   "source": [
    "6 Explain deadlocks and race conditions?\n",
    "Two threads hold locks on different resources, each waiting indefinitely for the other to release its lock. race condition. Two (or more) threads alter the state of a shared resource concurrently, leaving it in an unpredictable state."
   ]
  },
  {
   "cell_type": "markdown",
   "id": "711aa4bb-38c9-45ef-9bc8-415b6d92db39",
   "metadata": {},
   "source": [
    "5 This model provides more concurrency than the many-to-one model. It also allows another thread to run when a thread makes a blocking system call. It supports multiple threads to execute in parallel on microprocessors. Disadvantage of this model is that creating user thread requires the corresponding Kernel thread."
   ]
  },
  {
   "cell_type": "markdown",
   "id": "3494b26f-7908-4d1d-b605-d0ad0225aaa8",
   "metadata": {},
   "source": [
    "4  Use the Python threading module to create a multi-threaded application. Use the Thread(function, args) to create a new thread. Call the start() method of the Thread class to start the thread. Call the join() method of the Thread class to wait for the thread to complete in the main thread."
   ]
  },
  {
   "cell_type": "code",
   "execution_count": null,
   "id": "f7ebff08-2f16-40f9-91fb-8467d0a0db0a",
   "metadata": {},
   "outputs": [],
   "source": []
  }
 ],
 "metadata": {
  "kernelspec": {
   "display_name": "Python 3 (ipykernel)",
   "language": "python",
   "name": "python3"
  },
  "language_info": {
   "codemirror_mode": {
    "name": "ipython",
    "version": 3
   },
   "file_extension": ".py",
   "mimetype": "text/x-python",
   "name": "python",
   "nbconvert_exporter": "python",
   "pygments_lexer": "ipython3",
   "version": "3.10.8"
  }
 },
 "nbformat": 4,
 "nbformat_minor": 5
}
